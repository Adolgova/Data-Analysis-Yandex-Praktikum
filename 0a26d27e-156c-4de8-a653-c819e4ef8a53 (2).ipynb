{
 "cells": [
  {
   "cell_type": "markdown",
   "metadata": {},
   "source": [
    "# Определение перспективного тарифа для телеком компании"
   ]
  },
  {
   "cell_type": "markdown",
   "metadata": {},
   "source": [
    "#1. [Описание проекта](#description)\n",
    "#2. [Инструкция по выполнению проекта](#instruction)\n",
    "#3. [Загрузка файла](#loading)\n",
    "#4. [Подготовка данных к анализу](#preparation)\n",
    "#5. [Анализ данных](#analysis)\n",
    "#6. [Проверка гипотез](#hypothesis)\n",
    "#7. [Общий вывод](#output)"
   ]
  },
  {
   "cell_type": "markdown",
   "metadata": {},
   "source": [
    "<a name=\"description\"></a>\n",
    "# Описание проекта"
   ]
  },
  {
   "cell_type": "markdown",
   "metadata": {},
   "source": [
    "Вы аналитик компании \"Мегалайн\" - федерального оператора сотовой связи. Клиентам предлагают два тарифных плана: \"Смарт\" и \"Ультра\". Чтобы скорректировать рекламный бюджет, коммерческий департамент хочет понять, какой тариф приносит больше денег. Вам предстоит сделать предварительный анализ тарифов на небольшой выборке клиентов. В вашем распоряжении данные 500 пользователей \"Мегалайна\": кто они, откуда, каким тарифом пользуются, сколько звонков и сообщений каждый отправил за 2018 год. Нужно проанализировать поведение клиентов и сделать вывод - какой тариф лучше. "
   ]
  },
  {
   "cell_type": "markdown",
   "metadata": {},
   "source": [
    "Описание тарифов\n",
    "\n",
    "Тариф «Смарт»\n",
    "\n",
    "1.\tЕжемесячная плата: 550 рублей\n",
    "2.\tВключено 500 минут разговора, 50 сообщений и 15 Гб интернет-трафика\n",
    "3.\tСтоимость услуг сверх тарифного пакета:\n",
    "•\tминута разговора: 3 рубля («Мегалайн» всегда округляет вверх значения минут и мегабайтов. Если пользователь проговорил всего 1 секунду, в тарифе засчитывается целая минута.)\n",
    "•\tсообщение: 3 рубля\n",
    "•\t1 Гб интернет-трафика: 200 рублей\n",
    "\n",
    "Тариф «Ультра»\n",
    "\n",
    "1.\tЕжемесячная плата: 1950 рублей\n",
    "2.\tВключено 3000 минут разговора, 1000 сообщений и 30 Гб интернет-трафика\n",
    "3.\tСтоимость услуг сверх тарифного пакета:\n",
    "•\tминута разговора: 1 рубль\n",
    "•\tсообщение: 1 рубль\n",
    "•\t1 Гб интернет-трафика: 150 рублей\n"
   ]
  },
  {
   "cell_type": "markdown",
   "metadata": {},
   "source": [
    "<a name=\"instruction\"></a>\n",
    "# Инструкция по выполнению проекта"
   ]
  },
  {
   "cell_type": "markdown",
   "metadata": {},
   "source": [
    "    Шаг 1. Открыть файл с данными и изучить общую информацию.\n",
    "\n",
    "    Шаг 2. Подготовить данные.\n",
    "\n",
    "    Шаг 3. Проанализировать данные.\n",
    "\n",
    "    Шаг 4. Проверить гипотезы.\n",
    "\n",
    "    Шаг 5. Написать общий вывод."
   ]
  },
  {
   "cell_type": "markdown",
   "metadata": {},
   "source": [
    "<a name=\"loading\"></a>\n",
    "**Шаг 1. Загрузка файла.**"
   ]
  },
  {
   "cell_type": "code",
   "execution_count": 1,
   "metadata": {},
   "outputs": [],
   "source": [
    "import pandas as pd\n",
    "import matplotlib.pyplot as plt\n",
    "import math\n",
    "import numpy as np\n",
    "from scipy import stats as st\n",
    "import copy\n",
    "\n"
   ]
  },
  {
   "cell_type": "code",
   "execution_count": 2,
   "metadata": {},
   "outputs": [],
   "source": [
    "# выведем первые 5 строк\n",
    "#users.head()"
   ]
  },
  {
   "cell_type": "code",
   "execution_count": 3,
   "metadata": {},
   "outputs": [],
   "source": [
    "# выведем первые 5 строк\n",
    "#calls.head()"
   ]
  },
  {
   "cell_type": "code",
   "execution_count": 4,
   "metadata": {},
   "outputs": [],
   "source": [
    "# выведем первые 5 строк\n",
    "#messages.head()"
   ]
  },
  {
   "cell_type": "code",
   "execution_count": 5,
   "metadata": {},
   "outputs": [],
   "source": [
    "# выведем первые 5 строк\n",
    "#internet.head()"
   ]
  },
  {
   "cell_type": "code",
   "execution_count": 6,
   "metadata": {},
   "outputs": [],
   "source": [
    "# выведем первые 5 строк\n",
    "#tariffs.head()"
   ]
  },
  {
   "cell_type": "markdown",
   "metadata": {},
   "source": [
    "Описание данных:"
   ]
  },
  {
   "cell_type": "markdown",
   "metadata": {},
   "source": [
    "Таблица users (информация о пользователях):\n",
    "1. user_id — уникальный идентификатор пользователя\n",
    "2. first_name — имя пользователя\n",
    "3. last_name — фамилия пользователя\n",
    "4. age — возраст пользователя (годы)\n",
    "5. reg_date — дата подключения тарифа (день, месяц, год)\n",
    "6. churn_date — дата прекращения пользования тарифом (если значение пропущено, то тариф ещё действовал на момент выгрузки данных)\n",
    "7. city — город проживания пользователя\n",
    "8. tariff — название тарифного плана\n"
   ]
  },
  {
   "cell_type": "markdown",
   "metadata": {},
   "source": [
    "Таблица calls (информация о звонках):\n",
    "1. id — уникальный номер звонка\n",
    "2. call_date — дата звонка\n",
    "3. duration — длительность звонка в минутах\n",
    "4. user_id — идентификатор пользователя, сделавшего звонок\n"
   ]
  },
  {
   "cell_type": "markdown",
   "metadata": {},
   "source": [
    "Таблица messages (информация о сообщениях):\n",
    "1. id — уникальный номер сообщения\n",
    "2. message_date — дата сообщения\n",
    "3. user_id — идентификатор пользователя, отправившего сообщение\n"
   ]
  },
  {
   "cell_type": "markdown",
   "metadata": {},
   "source": [
    "Таблица internet (информация об интернет-сессиях):\n",
    "1. id — уникальный номер сессии\n",
    "2. mb_used — объём потраченного за сессию интернет-трафика (в мегабайтах)\n",
    "3. session_date — дата интернет-сессии\n",
    "4. user_id — идентификатор пользователя\n"
   ]
  },
  {
   "cell_type": "markdown",
   "metadata": {},
   "source": [
    "Таблица tariffs (информация о тарифах):\n",
    "1. tariff_name — название тарифа\n",
    "2. rub_monthly_fee — ежемесячная абонентская плата в рублях\n",
    "3. minutes_included — количество минут разговора в месяц, включённых в абонентскую плату\n",
    "4. messages_included — количество сообщений в месяц, включённых в абонентскую плату\n",
    "5. mb_per_month_included — объём интернет-трафика, включённого в абонентскую плату (в мегабайтах)\n",
    "6. rub_per_minute — стоимость минуты разговора сверх тарифного пакета (например, если в тарифе 100 минут разговора в месяц, то со 101 минуты будет взиматься плата)\n",
    "7. rub_per_message — стоимость отправки сообщения сверх тарифного пакета\n",
    "8. rub_per_gb — стоимость дополнительного гигабайта интернет-трафика сверх тарифного пакета (1 гигабайт = 1024 мегабайта)\n"
   ]
  },
  {
   "cell_type": "markdown",
   "metadata": {},
   "source": [
    "<a name=\"preparation\"></a>\n",
    "**Шаг 2. Подготовка данных к анализу.**"
   ]
  },
  {
   "cell_type": "markdown",
   "metadata": {},
   "source": [
    "**users**"
   ]
  },
  {
   "cell_type": "code",
   "execution_count": 7,
   "metadata": {},
   "outputs": [
    {
     "name": "stdout",
     "output_type": "stream",
     "text": [
      "<class 'pandas.core.frame.DataFrame'>\n",
      "RangeIndex: 500 entries, 0 to 499\n",
      "Data columns (total 8 columns):\n",
      "user_id       500 non-null int64\n",
      "age           500 non-null int64\n",
      "churn_date    38 non-null object\n",
      "city          500 non-null object\n",
      "first_name    500 non-null object\n",
      "last_name     500 non-null object\n",
      "reg_date      500 non-null object\n",
      "tariff        500 non-null object\n",
      "dtypes: int64(2), object(6)\n",
      "memory usage: 31.4+ KB\n"
     ]
    }
   ],
   "source": [
    "#посмотрим на сводную информацию о наборе данных\n",
    "users.info()"
   ]
  },
  {
   "cell_type": "markdown",
   "metadata": {},
   "source": [
    "Пропуски в столбце churn_date, но по условию задачи, если значение пропущено, то тариф еще действовал на момент выгрузки данных, поэтому не заполняем. "
   ]
  },
  {
   "cell_type": "markdown",
   "metadata": {},
   "source": [
    "* user_id - int64 - не трогаем.\n",
    "* age - int64 - не трогаем.\n",
    "* churn_date - object - переведем в тип дата.\n",
    "* city - object - не трогаем.\n",
    "* first_name - object - не трогаем.\n",
    "* last_name - object - не трогаем.\n",
    "* reg_date - object - переведем в тип дата.\n",
    "* tariff - object - не трогаем."
   ]
  },
  {
   "cell_type": "code",
   "execution_count": 8,
   "metadata": {},
   "outputs": [],
   "source": [
    "# переведем столбец churn_date в тип дата\n",
    "users['churn_date'] = pd.to_datetime(users['churn_date'], format='%Y.%m.%d %H:%M:%S')"
   ]
  },
  {
   "cell_type": "code",
   "execution_count": 9,
   "metadata": {},
   "outputs": [],
   "source": [
    "# переведем столбец reg_date в тип дата\n",
    "users['reg_date'] = pd.to_datetime(users['reg_date'], format='%Y.%m.%d %H:%M:%S')"
   ]
  },
  {
   "cell_type": "markdown",
   "metadata": {},
   "source": [
    "**calls**"
   ]
  },
  {
   "cell_type": "code",
   "execution_count": 10,
   "metadata": {},
   "outputs": [
    {
     "name": "stdout",
     "output_type": "stream",
     "text": [
      "<class 'pandas.core.frame.DataFrame'>\n",
      "RangeIndex: 202607 entries, 0 to 202606\n",
      "Data columns (total 4 columns):\n",
      "id           202607 non-null object\n",
      "call_date    202607 non-null object\n",
      "duration     202607 non-null float64\n",
      "user_id      202607 non-null int64\n",
      "dtypes: float64(1), int64(1), object(2)\n",
      "memory usage: 6.2+ MB\n"
     ]
    }
   ],
   "source": [
    "#посмотрим на сводную информацию о наборе данных\n",
    "calls.info()"
   ]
  },
  {
   "cell_type": "markdown",
   "metadata": {},
   "source": [
    "Все данные заполнены, пропусков нет."
   ]
  },
  {
   "cell_type": "markdown",
   "metadata": {},
   "source": [
    "* id - object - не трогаем.\n",
    "* сall_date - object - переведем в тип дата.\n",
    "* duration - float64 - округлим вверх.\n",
    "* user_id - int64 - не трогаем."
   ]
  },
  {
   "cell_type": "code",
   "execution_count": 11,
   "metadata": {},
   "outputs": [],
   "source": [
    "# переведем столбец call_date в тип дата\n",
    "calls['call_date'] = pd.to_datetime(calls['call_date'], format='%Y.%m.%d %H:%M:%S')"
   ]
  },
  {
   "cell_type": "code",
   "execution_count": 12,
   "metadata": {},
   "outputs": [],
   "source": [
    "# округлим вверх\n",
    "calls['duration'] = calls['duration'].apply(np.ceil)"
   ]
  },
  {
   "cell_type": "code",
   "execution_count": 13,
   "metadata": {},
   "outputs": [],
   "source": [
    "#calls.head()"
   ]
  },
  {
   "cell_type": "markdown",
   "metadata": {},
   "source": [
    "У большого количества звонков длительность - 0.0 минут.\n",
    "Это реальные данные, поэтому мы не будем их заменять. "
   ]
  },
  {
   "cell_type": "code",
   "execution_count": 14,
   "metadata": {},
   "outputs": [],
   "source": [
    "# добавим столбец month \n",
    "calls['month'] = pd.DatetimeIndex(calls['call_date']).month"
   ]
  },
  {
   "cell_type": "markdown",
   "metadata": {},
   "source": [
    "**messages**"
   ]
  },
  {
   "cell_type": "code",
   "execution_count": 15,
   "metadata": {},
   "outputs": [],
   "source": [
    "#посмотрим на сводную информацию о наборе данных\n",
    "#messages.info()"
   ]
  },
  {
   "cell_type": "markdown",
   "metadata": {},
   "source": [
    "Все данные заполнены, пропусков нет."
   ]
  },
  {
   "cell_type": "markdown",
   "metadata": {},
   "source": [
    "* id - object - не трогаем.\n",
    "* message_date - object - переведем в тип дата.\n",
    "* user_id - int64 - не трогаем."
   ]
  },
  {
   "cell_type": "code",
   "execution_count": 16,
   "metadata": {},
   "outputs": [],
   "source": [
    "# переведем столбец message_date в тип дата\n",
    "messages['message_date'] = pd.to_datetime(messages['message_date'], format='%Y.%m.%d %H:%M:%S')"
   ]
  },
  {
   "cell_type": "markdown",
   "metadata": {},
   "source": [
    "Добавим столбец month, т.к. в задании необходимо выяснить количество смс по месяцам."
   ]
  },
  {
   "cell_type": "code",
   "execution_count": 17,
   "metadata": {},
   "outputs": [],
   "source": [
    "# добавим столбец month \n",
    "messages['month'] = pd.DatetimeIndex(messages['message_date']).month"
   ]
  },
  {
   "cell_type": "markdown",
   "metadata": {},
   "source": [
    "**internet**"
   ]
  },
  {
   "cell_type": "code",
   "execution_count": 18,
   "metadata": {},
   "outputs": [],
   "source": [
    "#посмотрим на сводную информацию о наборе данных\n",
    "#internet.info()"
   ]
  },
  {
   "cell_type": "markdown",
   "metadata": {},
   "source": [
    "Все данные заполнены, пропусков нет."
   ]
  },
  {
   "cell_type": "markdown",
   "metadata": {},
   "source": [
    "* id - object - не трогаем.\n",
    "* mb_used - float64 - округлим вверх.\n",
    "* session_date - object - переведем в тип дата.\n",
    "* user_id - int64 - не трогаем."
   ]
  },
  {
   "cell_type": "code",
   "execution_count": 19,
   "metadata": {},
   "outputs": [],
   "source": [
    "# округлим вверх\n",
    "internet['mb_used'] = internet['mb_used'].apply(np.ceil)"
   ]
  },
  {
   "cell_type": "code",
   "execution_count": 20,
   "metadata": {},
   "outputs": [],
   "source": [
    "# переведем столбец session_date в тип дата\n",
    "internet['session_date'] = pd.to_datetime(internet['session_date'], format='%Y.%m.%d %H:%M:%S')"
   ]
  },
  {
   "cell_type": "code",
   "execution_count": 21,
   "metadata": {},
   "outputs": [],
   "source": [
    "# добавим столбец month\n",
    "internet['month'] = pd.DatetimeIndex(internet['session_date']).month"
   ]
  },
  {
   "cell_type": "markdown",
   "metadata": {},
   "source": [
    "**tariffs**"
   ]
  },
  {
   "cell_type": "code",
   "execution_count": 22,
   "metadata": {},
   "outputs": [],
   "source": [
    "# посмотрим на сводную информацию о наборе данных\n",
    "#tariffs.info()"
   ]
  },
  {
   "cell_type": "markdown",
   "metadata": {},
   "source": [
    "В таблице tariffs ничего не меняем."
   ]
  },
  {
   "cell_type": "markdown",
   "metadata": {},
   "source": [
    "***Посчитаем для каждого пользователя:***"
   ]
  },
  {
   "cell_type": "code",
   "execution_count": 23,
   "metadata": {},
   "outputs": [],
   "source": [
    "# количество звонков по месяцам\n",
    "user_calls = calls.groupby(['user_id', 'month'])\\\n",
    "                  .agg({'duration':'sum', 'id':'count'})\\\n",
    "                  .reset_index()\\\n",
    "                  .rename(columns={'id':'calls_month'})\\"
   ]
  },
  {
   "cell_type": "code",
   "execution_count": 24,
   "metadata": {},
   "outputs": [],
   "source": [
    "#user_calls.head()"
   ]
  },
  {
   "cell_type": "code",
   "execution_count": 25,
   "metadata": {},
   "outputs": [],
   "source": [
    "# количество отправленных сообщений по месяцам\n",
    "user_messages = messages.groupby(['user_id', 'month'])\\\n",
    "                        .agg({'id':'count'})\\\n",
    "                        .reset_index()\\\n",
    "                        .rename(columns={'id':'sms_month'})"
   ]
  },
  {
   "cell_type": "code",
   "execution_count": 26,
   "metadata": {},
   "outputs": [],
   "source": [
    "#user_messages.head()"
   ]
  },
  {
   "cell_type": "code",
   "execution_count": 27,
   "metadata": {},
   "outputs": [],
   "source": [
    "# объем израсходованного интернет-трафика по месяцам\n",
    "user_internet = internet.groupby(['user_id', 'month'])\\\n",
    "                        .agg({'mb_used':'sum'})\\\n",
    "                        .reset_index()\\\n",
    "                        .rename(columns={'mb_used':'mb_month'})"
   ]
  },
  {
   "cell_type": "code",
   "execution_count": 28,
   "metadata": {},
   "outputs": [],
   "source": [
    "#user_internet.head()"
   ]
  },
  {
   "cell_type": "markdown",
   "metadata": {},
   "source": [
    "Методом merge создадим таблицу со звонками, смс, интернетом по месяцам и добавим таблицу с тарифами."
   ]
  },
  {
   "cell_type": "code",
   "execution_count": 29,
   "metadata": {},
   "outputs": [],
   "source": [
    "# посчитаем выручку от звонков\n",
    "revenue = user_calls.merge(user_messages, on=['user_id', 'month'], how = 'outer')"
   ]
  },
  {
   "cell_type": "code",
   "execution_count": 30,
   "metadata": {},
   "outputs": [],
   "source": [
    "#revenue.head()"
   ]
  },
  {
   "cell_type": "code",
   "execution_count": 31,
   "metadata": {},
   "outputs": [],
   "source": [
    "# посчитаем выручку от интернета\n",
    "revenue = revenue.merge(user_internet, on=['user_id','month'], how = 'outer')"
   ]
  },
  {
   "cell_type": "code",
   "execution_count": 32,
   "metadata": {},
   "outputs": [],
   "source": [
    "#revenue.head()"
   ]
  },
  {
   "cell_type": "code",
   "execution_count": 33,
   "metadata": {},
   "outputs": [],
   "source": [
    "revenue = revenue.merge(users, on='user_id', how='outer')"
   ]
  },
  {
   "cell_type": "code",
   "execution_count": 34,
   "metadata": {},
   "outputs": [],
   "source": [
    "#revenue.head()"
   ]
  },
  {
   "cell_type": "code",
   "execution_count": 35,
   "metadata": {},
   "outputs": [],
   "source": [
    "tariffs.rename(columns=lambda x: x.replace('tariff_name','tariff'), inplace=True)"
   ]
  },
  {
   "cell_type": "code",
   "execution_count": 36,
   "metadata": {},
   "outputs": [],
   "source": [
    "# посчитаем выручку от тарифа\n",
    "revenue = revenue.merge(tariffs, on='tariff', how='outer')"
   ]
  },
  {
   "cell_type": "code",
   "execution_count": 37,
   "metadata": {},
   "outputs": [],
   "source": [
    "#revenue.head()"
   ]
  },
  {
   "cell_type": "markdown",
   "metadata": {},
   "source": [
    "Помесячную выручку с каждого пользователя (вычтите бесплатный лимит из суммарного количества звонков, сообщений и интернет-трафика; остаток умножьте на значение из тарифного плана; прибавьте абонентскую плату, соответствующую тарифному плану)."
   ]
  },
  {
   "cell_type": "code",
   "execution_count": 38,
   "metadata": {},
   "outputs": [],
   "source": [
    "# посчитаем помесячную выручку с каждого пользователя\n",
    "def revenue_id(i):\n",
    "    calls = (i['calls_month'] - i['minutes_included']) * i['rub_per_minute']\n",
    "    messages = (i['sms_month'] - i['messages_included']) * i['rub_per_message']\n",
    "    internet = np.ceil((i['mb_month'] - i['mb_per_month_included']) / 1024) * i['rub_per_gb']\n",
    "    total = 0\n",
    "    for n in [calls, messages, internet]:\n",
    "        if n > 0:\n",
    "            total += n\n",
    "    return total"
   ]
  },
  {
   "cell_type": "code",
   "execution_count": 39,
   "metadata": {},
   "outputs": [],
   "source": [
    "revenue['revenue_id'] = revenue.apply(lambda x: revenue_id(x), axis=1)"
   ]
  },
  {
   "cell_type": "code",
   "execution_count": 40,
   "metadata": {},
   "outputs": [],
   "source": [
    "revenue['total_revenue'] = revenue['rub_monthly_fee'] + revenue['revenue_id']"
   ]
  },
  {
   "cell_type": "code",
   "execution_count": 41,
   "metadata": {},
   "outputs": [],
   "source": [
    "#revenue.sort_values(by='total_revenue').head()"
   ]
  },
  {
   "cell_type": "markdown",
   "metadata": {},
   "source": [
    "На данном этапе мы привели данные к нужным типам, а именно столбцы: churn_date,reg_date, сall_date, message_date, session_date - перевели в тип data; столбцы duration, mb_used - округлили вверх.\n",
    "\n",
    "Заменили пропуски на нулевые значения.\n",
    "\n",
    "Посчитали для каждого пользователя:\n",
    "* количество отправленных сообщений по месяцам;\n",
    "* объем израсходованного интернет-трафика по месяцам;\n",
    "* помесячную выручку с каждого пользователя.\n"
   ]
  },
  {
   "cell_type": "markdown",
   "metadata": {},
   "source": [
    "<a name=\"analysis\"></a>\n",
    "**Шаг 3. Анализ данных**"
   ]
  },
  {
   "cell_type": "markdown",
   "metadata": {},
   "source": [
    "Создадим таблицы по тарифам, smart и ultra. "
   ]
  },
  {
   "cell_type": "code",
   "execution_count": 42,
   "metadata": {},
   "outputs": [],
   "source": [
    "# создадим таблицы по тарифам smart и ultra\n",
    "smart = revenue[revenue['tariff'] == 'smart']\n",
    "ultra = revenue[revenue['tariff'] == 'ultra']"
   ]
  },
  {
   "cell_type": "code",
   "execution_count": 43,
   "metadata": {},
   "outputs": [],
   "source": [
    "# выведем первые 5 строк\n",
    "#smart.head()"
   ]
  },
  {
   "cell_type": "code",
   "execution_count": 44,
   "metadata": {},
   "outputs": [],
   "source": [
    "# выведем первые 5 строк\n",
    "#ultra.head()"
   ]
  },
  {
   "cell_type": "code",
   "execution_count": 45,
   "metadata": {},
   "outputs": [
    {
     "data": {
      "text/html": [
       "<div>\n",
       "<style scoped>\n",
       "    .dataframe tbody tr th:only-of-type {\n",
       "        vertical-align: middle;\n",
       "    }\n",
       "\n",
       "    .dataframe tbody tr th {\n",
       "        vertical-align: top;\n",
       "    }\n",
       "\n",
       "    .dataframe thead th {\n",
       "        text-align: right;\n",
       "    }\n",
       "</style>\n",
       "<table border=\"1\" class=\"dataframe\">\n",
       "  <thead>\n",
       "    <tr style=\"text-align: right;\">\n",
       "      <th></th>\n",
       "      <th>duration</th>\n",
       "      <th>sms_month</th>\n",
       "      <th>mb_month</th>\n",
       "    </tr>\n",
       "  </thead>\n",
       "  <tbody>\n",
       "    <tr>\n",
       "      <td>count</td>\n",
       "      <td>2223.000000</td>\n",
       "      <td>1922.000000</td>\n",
       "      <td>2228.000000</td>\n",
       "    </tr>\n",
       "    <tr>\n",
       "      <td>mean</td>\n",
       "      <td>419.062978</td>\n",
       "      <td>38.716441</td>\n",
       "      <td>16236.472621</td>\n",
       "    </tr>\n",
       "    <tr>\n",
       "      <td>std</td>\n",
       "      <td>189.325618</td>\n",
       "      <td>26.787949</td>\n",
       "      <td>5868.824472</td>\n",
       "    </tr>\n",
       "    <tr>\n",
       "      <td>min</td>\n",
       "      <td>0.000000</td>\n",
       "      <td>1.000000</td>\n",
       "      <td>0.000000</td>\n",
       "    </tr>\n",
       "    <tr>\n",
       "      <td>25%</td>\n",
       "      <td>285.000000</td>\n",
       "      <td>17.000000</td>\n",
       "      <td>12668.500000</td>\n",
       "    </tr>\n",
       "    <tr>\n",
       "      <td>50%</td>\n",
       "      <td>423.000000</td>\n",
       "      <td>34.000000</td>\n",
       "      <td>16532.000000</td>\n",
       "    </tr>\n",
       "    <tr>\n",
       "      <td>75%</td>\n",
       "      <td>545.500000</td>\n",
       "      <td>55.000000</td>\n",
       "      <td>20068.000000</td>\n",
       "    </tr>\n",
       "    <tr>\n",
       "      <td>max</td>\n",
       "      <td>1435.000000</td>\n",
       "      <td>143.000000</td>\n",
       "      <td>38610.000000</td>\n",
       "    </tr>\n",
       "  </tbody>\n",
       "</table>\n",
       "</div>"
      ],
      "text/plain": [
       "          duration    sms_month      mb_month\n",
       "count  2223.000000  1922.000000   2228.000000\n",
       "mean    419.062978    38.716441  16236.472621\n",
       "std     189.325618    26.787949   5868.824472\n",
       "min       0.000000     1.000000      0.000000\n",
       "25%     285.000000    17.000000  12668.500000\n",
       "50%     423.000000    34.000000  16532.000000\n",
       "75%     545.500000    55.000000  20068.000000\n",
       "max    1435.000000   143.000000  38610.000000"
      ]
     },
     "execution_count": 45,
     "metadata": {},
     "output_type": "execute_result"
    }
   ],
   "source": [
    "# посмотрим отсутствующие признаки, изучим средние значения и стандартные отклонения\n",
    "smart[['duration', 'sms_month', 'mb_month']].describe()"
   ]
  },
  {
   "cell_type": "code",
   "execution_count": 46,
   "metadata": {},
   "outputs": [
    {
     "data": {
      "text/html": [
       "<div>\n",
       "<style scoped>\n",
       "    .dataframe tbody tr th:only-of-type {\n",
       "        vertical-align: middle;\n",
       "    }\n",
       "\n",
       "    .dataframe tbody tr th {\n",
       "        vertical-align: top;\n",
       "    }\n",
       "\n",
       "    .dataframe thead th {\n",
       "        text-align: right;\n",
       "    }\n",
       "</style>\n",
       "<table border=\"1\" class=\"dataframe\">\n",
       "  <thead>\n",
       "    <tr style=\"text-align: right;\">\n",
       "      <th></th>\n",
       "      <th>duration</th>\n",
       "      <th>sms_month</th>\n",
       "      <th>mb_month</th>\n",
       "    </tr>\n",
       "  </thead>\n",
       "  <tbody>\n",
       "    <tr>\n",
       "      <td>count</td>\n",
       "      <td>951.000000</td>\n",
       "      <td>795.000000</td>\n",
       "      <td>975.000000</td>\n",
       "    </tr>\n",
       "    <tr>\n",
       "      <td>mean</td>\n",
       "      <td>545.451104</td>\n",
       "      <td>61.161006</td>\n",
       "      <td>19686.767179</td>\n",
       "    </tr>\n",
       "    <tr>\n",
       "      <td>std</td>\n",
       "      <td>306.925754</td>\n",
       "      <td>45.931026</td>\n",
       "      <td>9952.057054</td>\n",
       "    </tr>\n",
       "    <tr>\n",
       "      <td>min</td>\n",
       "      <td>0.000000</td>\n",
       "      <td>1.000000</td>\n",
       "      <td>0.000000</td>\n",
       "    </tr>\n",
       "    <tr>\n",
       "      <td>25%</td>\n",
       "      <td>310.000000</td>\n",
       "      <td>24.000000</td>\n",
       "      <td>12020.500000</td>\n",
       "    </tr>\n",
       "    <tr>\n",
       "      <td>50%</td>\n",
       "      <td>528.000000</td>\n",
       "      <td>51.000000</td>\n",
       "      <td>19411.000000</td>\n",
       "    </tr>\n",
       "    <tr>\n",
       "      <td>75%</td>\n",
       "      <td>756.500000</td>\n",
       "      <td>87.500000</td>\n",
       "      <td>26920.500000</td>\n",
       "    </tr>\n",
       "    <tr>\n",
       "      <td>max</td>\n",
       "      <td>1673.000000</td>\n",
       "      <td>224.000000</td>\n",
       "      <td>49789.000000</td>\n",
       "    </tr>\n",
       "  </tbody>\n",
       "</table>\n",
       "</div>"
      ],
      "text/plain": [
       "          duration   sms_month      mb_month\n",
       "count   951.000000  795.000000    975.000000\n",
       "mean    545.451104   61.161006  19686.767179\n",
       "std     306.925754   45.931026   9952.057054\n",
       "min       0.000000    1.000000      0.000000\n",
       "25%     310.000000   24.000000  12020.500000\n",
       "50%     528.000000   51.000000  19411.000000\n",
       "75%     756.500000   87.500000  26920.500000\n",
       "max    1673.000000  224.000000  49789.000000"
      ]
     },
     "execution_count": 46,
     "metadata": {},
     "output_type": "execute_result"
    }
   ],
   "source": [
    "# посмотрим отсутствующие признаки, изучим средние значения и стандартные отклонения\n",
    "ultra[['duration', 'sms_month', 'mb_month']].describe()"
   ]
  },
  {
   "cell_type": "markdown",
   "metadata": {},
   "source": [
    "В месяц пользователям тарифа SMART, требуется:\n",
    "    * Минут разговора: 419\n",
    "    * Сообщений: 38\n",
    "    * Мегабайт интернета: 16236\n",
    "    \n",
    "В месяц пользователям тарифа ULTRA, требуется:\n",
    "\n",
    "    * Минут разговора: 545\n",
    "    * Сообщений: 61\n",
    "    * Мегабайт интернета: 19686"
   ]
  },
  {
   "cell_type": "code",
   "execution_count": 47,
   "metadata": {},
   "outputs": [
    {
     "data": {
      "image/png": "[encoded data removed]",
      "text/plain": [
       "<Figure size 432x288 with 1 Axes>"
      ]
     },
     "metadata": {
      "needs_background": "light"
     },
     "output_type": "display_data"
    }
   ],
   "source": [
    "# построим график по тарифам для звонков\n",
    "smart['duration'].plot(kind='hist', bins = 8, grid=True, title='Звонки (Smart)');"
   ]
  },
  {
   "cell_type": "code",
   "execution_count": 48,
   "metadata": {},
   "outputs": [
    {
     "data": {
      "image/png": "[encoded data removed]",
      "text/plain": [
       "<Figure size 432x288 with 1 Axes>"
      ]
     },
     "metadata": {
      "needs_background": "light"
     },
     "output_type": "display_data"
    }
   ],
   "source": [
    "# построим график по тарифам для звонков\n",
    "ultra['duration'].plot(kind='hist', bins = 8, grid=True, title='Звонки (Ultra)');"
   ]
  },
  {
   "cell_type": "markdown",
   "metadata": {},
   "source": [
    "**Звонки**\n",
    "             \n",
    "Клиенты с тарифом Smart в среднем разговаривают от 300 до 500 минут. В пакет включены 500 минут, поэтому пользователи не приобретают дополнительные минуты.\n",
    "\n",
    "Клиенты с тарифом Ultra в среднем разговаривают от 400 до 600 минут. В пакет включены 3000 минут, поэтому пользователи также не приобретают дополнительные минуты."
   ]
  },
  {
   "cell_type": "code",
   "execution_count": 49,
   "metadata": {},
   "outputs": [
    {
     "data": {
      "image/png": "[encoded data removed]",
      "text/plain": [
       "<Figure size 432x288 with 1 Axes>"
      ]
     },
     "metadata": {
      "needs_background": "light"
     },
     "output_type": "display_data"
    }
   ],
   "source": [
    "# построим график по тарифам для смс\n",
    "smart['sms_month'].plot(kind='hist', bins = 8, grid=True, title='СМС (Smart)');"
   ]
  },
  {
   "cell_type": "code",
   "execution_count": 50,
   "metadata": {},
   "outputs": [
    {
     "data": {
      "image/png": "[encoded data removed]",
      "text/plain": [
       "<Figure size 432x288 with 1 Axes>"
      ]
     },
     "metadata": {
      "needs_background": "light"
     },
     "output_type": "display_data"
    }
   ],
   "source": [
    "# построим график по тарифам для смс\n",
    "ultra['sms_month'].plot(kind='hist', bins = 8, grid=True, title='СМС (Ultra)');"
   ]
  },
  {
   "cell_type": "markdown",
   "metadata": {},
   "source": [
    "**Сообщения**\n",
    "\n",
    "Пользователи почти не пользуются смс."
   ]
  },
  {
   "cell_type": "code",
   "execution_count": 51,
   "metadata": {},
   "outputs": [
    {
     "data": {
      "image/png": "[encoded data removed]",
      "text/plain": [
       "<Figure size 432x288 with 1 Axes>"
      ]
     },
     "metadata": {
      "needs_background": "light"
     },
     "output_type": "display_data"
    }
   ],
   "source": [
    "# построим график по тарифам для интернета\n",
    "smart['mb_month'].plot(kind='hist', bins = 8, grid=True, title='Интернет (Smart)');"
   ]
  },
  {
   "cell_type": "code",
   "execution_count": 52,
   "metadata": {},
   "outputs": [
    {
     "data": {
      "image/png": "[encoded data removed]",
      "text/plain": [
       "<Figure size 432x288 with 1 Axes>"
      ]
     },
     "metadata": {
      "needs_background": "light"
     },
     "output_type": "display_data"
    }
   ],
   "source": [
    "# построим график по тарифам для интернета\n",
    "ultra['mb_month'].plot(kind='hist', bins = 8, grid=True, title='Интернет (Ultra)');"
   ]
  },
  {
   "cell_type": "markdown",
   "metadata": {},
   "source": [
    "**Интернет**\n",
    "\n",
    "Клиенты с тарифом Smart в среднем в месяц используют от 15 до 18 Гб трафика. Согласно тарифу, в пакет включены 30 ГБ интернета, таким образом пользователи тарифа Smart укладываются в стандартный пакет.\n",
    "\n",
    "Клиенты с тарифом Ultra в среднем в месяц используют от 15 до 20 Гб трафика.  Согласно тарифу, в пакет включены лишь 15 ГБ интернета, что говорит нам о покупке дополнительного пакета.\n",
    "\n",
    "\n"
   ]
  },
  {
   "cell_type": "code",
   "execution_count": 53,
   "metadata": {},
   "outputs": [
    {
     "data": {
      "text/plain": [
       "2230"
      ]
     },
     "execution_count": 53,
     "metadata": {},
     "output_type": "execute_result"
    }
   ],
   "source": [
    "# посмотрим количество клиентов тарифа smart\n",
    "smart['user_id'].count()"
   ]
  },
  {
   "cell_type": "code",
   "execution_count": 54,
   "metadata": {},
   "outputs": [
    {
     "data": {
      "text/plain": [
       "986"
      ]
     },
     "execution_count": 54,
     "metadata": {},
     "output_type": "execute_result"
    }
   ],
   "source": [
    "# посмотрим количество клиентов тарифа ultra\n",
    "ultra['user_id'].count()"
   ]
  },
  {
   "cell_type": "code",
   "execution_count": 55,
   "metadata": {},
   "outputs": [
    {
     "data": {
      "text/plain": [
       "duration       419.062978\n",
       "sms_month       38.716441\n",
       "mb_month     16236.472621\n",
       "dtype: float64"
      ]
     },
     "execution_count": 55,
     "metadata": {},
     "output_type": "execute_result"
    }
   ],
   "source": [
    "# узнаем среднее\n",
    "smart[['duration', 'sms_month', 'mb_month']].mean()"
   ]
  },
  {
   "cell_type": "code",
   "execution_count": 56,
   "metadata": {},
   "outputs": [
    {
     "data": {
      "text/plain": [
       "duration       545.451104\n",
       "sms_month       61.161006\n",
       "mb_month     19686.767179\n",
       "dtype: float64"
      ]
     },
     "execution_count": 56,
     "metadata": {},
     "output_type": "execute_result"
    }
   ],
   "source": [
    "# узнаем среднее\n",
    "ultra[['duration', 'sms_month', 'mb_month']].mean()"
   ]
  },
  {
   "cell_type": "code",
   "execution_count": 57,
   "metadata": {},
   "outputs": [
    {
     "data": {
      "text/plain": [
       "1169.544394618834"
      ]
     },
     "execution_count": 57,
     "metadata": {},
     "output_type": "execute_result"
    }
   ],
   "source": [
    "# узнаем среднее\n",
    "smart['total_revenue'].mean()"
   ]
  },
  {
   "cell_type": "code",
   "execution_count": 58,
   "metadata": {},
   "outputs": [
    {
     "data": {
      "text/plain": [
       "2070.943204868154"
      ]
     },
     "execution_count": 58,
     "metadata": {},
     "output_type": "execute_result"
    }
   ],
   "source": [
    "# узнаем среднее\n",
    "ultra['total_revenue'].mean()"
   ]
  },
  {
   "cell_type": "markdown",
   "metadata": {},
   "source": [
    "Опишем поведение клиентов оператора исходя из каждого тарифа. \n",
    "Тарифом Smart пользуются на 44.22 % больше, чем тарифом Ultra. \n",
    "\n",
    "Количество пользователей тарифа Smart - 2230.\n",
    "Один пользователь тарифа Smart в среднем платит за обслуживание - 1169 руб.\n",
    "Включено в тариф /среднее количество использовано на Smart:\n",
    "\n",
    "* calls - 500/419;\n",
    "* sms - 50/38;\n",
    "* mb - 15000/16236;\n",
    "\n",
    "Количество пользователей тарифа Ultra - 986.\n",
    "Один пользователь тарифа Ultra в среднем платит за обслуживание - 2070 руб. Включено в тариф /среднее количество использовано на Ultra:\n",
    "\n",
    "* calls - 3000/545;\n",
    "* sms - 1000/61;\n",
    "* mb - 30000/19686;\n",
    "\n",
    "Несмотря на то, что абонентская плата на тарифе Smart ниже, за счет количества пользователей, тариф Smart приносит компании больше дохода, нежели тариф Ultra."
   ]
  },
  {
   "cell_type": "markdown",
   "metadata": {},
   "source": [
    "<a name=\"hypothesis\"></a>\n",
    "**Шаг 4. Проверка гипотез**"
   ]
  },
  {
   "cell_type": "markdown",
   "metadata": {},
   "source": [
    "Сформулируем гипотезу № 1"
   ]
  },
  {
   "cell_type": "markdown",
   "metadata": {},
   "source": [
    "Нулевая гипотеза H0  - выручка тарифов Smart и Ultra не различается.\n",
    "Альтернативная гипотеза H1 - выручка тарифов Smart и Ultra различается."
   ]
  },
  {
   "cell_type": "markdown",
   "metadata": {},
   "source": [
    "Зададим alpha (критический уровень статистической значимости) - .05"
   ]
  },
  {
   "cell_type": "code",
   "execution_count": 59,
   "metadata": {},
   "outputs": [
    {
     "name": "stdout",
     "output_type": "stream",
     "text": [
      "p-значение: 0.0\n",
      "Отвергаем нулевую гипотезу\n"
     ]
    }
   ],
   "source": [
    "alpha = 0.05\n",
    "\n",
    "results = st.ttest_ind(smart['total_revenue'], ultra['total_revenue'], equal_var = False)\n",
    "print('p-значение:', results.pvalue)\n",
    "\n",
    "if (results.pvalue < alpha):\n",
    "    print('Отвергаем нулевую гипотезу')\n",
    "else:\n",
    "    print('Не получилось отвергнуть нулевую гипотезу')"
   ]
  },
  {
   "cell_type": "markdown",
   "metadata": {},
   "source": [
    "Выручка тарифов Smart и Ultra различается."
   ]
  },
  {
   "cell_type": "markdown",
   "metadata": {},
   "source": [
    "Сформулируем гипотезу № 2"
   ]
  },
  {
   "cell_type": "markdown",
   "metadata": {},
   "source": [
    "Нулевая гипотеза H0 - средняя выручка пользователей из Москвы не отличается от выручки пользователей из других регионов. Альтернативная гипотеза H1 - средняя выручка пользователей из Москвы отличается от выручки пользователей из других регионов."
   ]
  },
  {
   "cell_type": "markdown",
   "metadata": {},
   "source": [
    "Зададим alpha (критический уровень статистической значимости) - .05"
   ]
  },
  {
   "cell_type": "markdown",
   "metadata": {},
   "source": [
    "Создадим таблицы, в которыз разделим пользователей из Москвы и остальных пользователей."
   ]
  },
  {
   "cell_type": "code",
   "execution_count": 60,
   "metadata": {},
   "outputs": [],
   "source": [
    "#revenue.head()"
   ]
  },
  {
   "cell_type": "code",
   "execution_count": 61,
   "metadata": {},
   "outputs": [],
   "source": [
    "moscow = revenue[revenue['city'] == 'Москва']\n",
    "other = revenue[revenue['city'] != 'Москва']"
   ]
  },
  {
   "cell_type": "code",
   "execution_count": 62,
   "metadata": {},
   "outputs": [],
   "source": [
    "#moscow.head()"
   ]
  },
  {
   "cell_type": "code",
   "execution_count": 63,
   "metadata": {},
   "outputs": [],
   "source": [
    "#other.head()"
   ]
  },
  {
   "cell_type": "code",
   "execution_count": 64,
   "metadata": {},
   "outputs": [
    {
     "name": "stdout",
     "output_type": "stream",
     "text": [
      "P-value: 0.27357188086762696\n",
      "Не получилось отвергнуть нулевую гипотезу\n"
     ]
    }
   ],
   "source": [
    "moscow.pivot_table(index = 'tariff', values = 'total_revenue', aggfunc = 'count')\n",
    "other.pivot_table(index = 'tariff', values = 'total_revenue', aggfunc = 'count')\n",
    "\n",
    "alpha = 0.05\n",
    "results = st.ttest_ind(moscow['total_revenue'], other['total_revenue'], equal_var = False)\n",
    "print('P-value:', results.pvalue)\n",
    "\n",
    "if (results.pvalue < alpha):\n",
    "    print(\"Отвергаем нулевую гипотезу\")\n",
    "else:\n",
    "    print(\"Не получилось отвергнуть нулевую гипотезу\")"
   ]
  },
  {
   "cell_type": "markdown",
   "metadata": {},
   "source": [
    "Cредняя выручка пользователей из Москвы не отличается от выручки пользователей из других регионов."
   ]
  },
  {
   "cell_type": "markdown",
   "metadata": {},
   "source": [
    "Таким образом, выручка тарифов Smart и Ultra различается. \n",
    "А вот выручка по Москве и регионам нет."
   ]
  },
  {
   "cell_type": "markdown",
   "metadata": {},
   "source": [
    "<a name=\"output\"></a>\n",
    "**Шаг 5. Общий вывод**"
   ]
  },
  {
   "cell_type": "markdown",
   "metadata": {},
   "source": [
    "В данном анализе мы проделали следующие шаги:\n",
    "1. Мы привели данные к нужным типам, а именно столбцы: churn_date,reg_date, сall_date, message_date, session_date - перевели в тип data; столбцы duration, mb_used - округлили вверх.\n",
    "2. Посчитали для каждого пользователя:\n",
    " * количество отправленных сообщений по месяцам;\n",
    " * объем израсходованного интернет-трафика по месяцам;\n",
    " * помесячную выручку с каждого пользователя.\n",
    "3. Выяснили:\n",
    " * Клиенты с тарифом Smart в среднем разговаривают от 300 до 400 минут. В пакет включены 500 минут, поэтому пользователи не приобретают дополнительные минуты.\n",
    " * Клиенты с тарифом Ultra в среднем разговаривают от 400 до 600 минут. В пакет включены 3000 минут, поэтому пользователи также не приобретают дополнительные минуты.\n",
    " * Пользователи обоих тарифов почти не пользуются смс, но все же тариф Ultra лидирует.\n",
    " * Клиенты с тарифом Smart в среднем в месяц используют от 15 до 18 Гб трафика. Согласно тарифу, в пакет включены 30 ГБ интернета, таким образом пользователи тарифа Smart укладываются в стандартный пакет.\n",
    " * Клиенты с тарифом Ultra в среднем в месяц используют от 15 до 20 Гб трафика.  Согласно тарифу, в пакет включены лишь 15 ГБ интернета, что говорит нам о покупке дополнительного пакета.  \n",
    "4. Проверили гипотезы и выяснили, что:\n",
    " * Выручка тарифов Smart и Ultra различается. \n",
    " * Выручка по Москве и регионам нет.\n",
    "\n",
    "**Итог:** В тарифе Ultra 986 клиентов. В тарифе Smart 2230 клиентов. Средний клиент тарифа Ultra приносит компании больше денег, чем средний клиент тарифа Smart, но из-за того, что пользователей тарифа Smart больше, то выручка от этого тарифа тоже больше. \n",
    "\n"
   ]
  }
 ],
 "metadata": {
  "kernelspec": {
   "display_name": "Python 3",
   "language": "python",
   "name": "python3"
  },
  "language_info": {
   "codemirror_mode": {
    "name": "ipython",
    "version": 3
   },
   "file_extension": ".py",
   "mimetype": "text/x-python",
   "name": "python",
   "nbconvert_exporter": "python",
   "pygments_lexer": "ipython3",
   "version": "3.7.8"
  },
  "toc": {
   "base_numbering": 1,
   "nav_menu": {},
   "number_sections": true,
   "sideBar": true,
   "skip_h1_title": true,
   "title_cell": "Table of Contents",
   "title_sidebar": "Contents",
   "toc_cell": false,
   "toc_position": {},
   "toc_section_display": true,
   "toc_window_display": false
  }
 },
 "nbformat": 4,
 "nbformat_minor": 2
}
